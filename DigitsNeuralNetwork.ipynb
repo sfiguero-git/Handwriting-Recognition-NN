{
 "cells": [
  {
   "cell_type": "code",
   "execution_count": 1,
   "metadata": {},
   "outputs": [],
   "source": [
    "# Install required libraries (run first time only)\n",
    "# %pip install numpy\n",
    "# %pip install opencv-python\n",
    "# %pip install tensorflow\n",
    "# %pip install matplotlib"
   ]
  },
  {
   "cell_type": "code",
   "execution_count": 2,
   "metadata": {},
   "outputs": [],
   "source": [
    "# Preprocessing\n",
    "\n",
    "# Import required libraries\n",
    "import cv2 # Computer Vision (i.e. load images and process them)\n",
    "import matplotlib.pyplot as plt # For digit's visualization\n",
    "import tensorflow as tf # library for machine learning\n",
    "import numpy as np # Numpy arrays\n",
    "import os\n",
    "\n",
    "# Download dataset\n",
    "mnist = tf.keras.datasets.mnist\n",
    "\n",
    "# Split into training and testing data\n",
    "(xTrain, yTrain), (xTest, yTest) = mnist.load_data()\n",
    "\n",
    "# Normalize (scaling pixel values between 0-1)\n",
    "xTrain = tf.keras.utils.normalize(xTrain, axis = 1)\n",
    "xTest = tf.keras.utils.normalize(xTest, axis = 1)"
   ]
  },
  {
   "cell_type": "code",
   "execution_count": 3,
   "metadata": {},
   "outputs": [
    {
     "data": {
      "text/plain": [
       "\"\\nmodel = tf.keras.models.Sequential()\\n\\n# Add layers to model\\nmodel.add(tf.keras.layers.Flatten(input_shape = (28, 28))) # 28x28 pixels\\n\\nmodel.add(tf.keras.layers.Dense(128, activation = 'relu'))\\nmodel.add(tf.keras.layers.Dense(128, activation = 'relu'))\\n\\n# All outputs from neurons add up to 1 due to softmax\\nmodel.add(tf.keras.layers.Dense(10, activation = 'softmax'))\\n\\n# Compile model\\nmodel.compile(optimizer = 'adam', loss = 'sparse_categorical_crossentropy', metrics = ['accuracy'])\\n\""
      ]
     },
     "execution_count": 3,
     "metadata": {},
     "output_type": "execute_result"
    }
   ],
   "source": [
    "# Create model for Neural Network\n",
    "'''\n",
    "model = tf.keras.models.Sequential()\n",
    "\n",
    "# Add layers to model\n",
    "model.add(tf.keras.layers.Flatten(input_shape = (28, 28))) # 28x28 pixels\n",
    "\n",
    "model.add(tf.keras.layers.Dense(128, activation = 'relu'))\n",
    "model.add(tf.keras.layers.Dense(128, activation = 'relu'))\n",
    "\n",
    "# All outputs from neurons add up to 1 due to softmax\n",
    "model.add(tf.keras.layers.Dense(10, activation = 'softmax'))\n",
    "\n",
    "# Compile model\n",
    "model.compile(optimizer = 'adam', loss = 'sparse_categorical_crossentropy', metrics = ['accuracy'])\n",
    "'''"
   ]
  },
  {
   "cell_type": "code",
   "execution_count": 4,
   "metadata": {},
   "outputs": [
    {
     "data": {
      "text/plain": [
       "\"\\n# Train the model\\n\\nmodel.fit(xTrain, yTrain, epochs = 10) # Define 10 iterations\\n\\n# Save the model\\nmodel.save('digits.model')\\n\""
      ]
     },
     "execution_count": 4,
     "metadata": {},
     "output_type": "execute_result"
    }
   ],
   "source": [
    "'''\n",
    "# Train the model\n",
    "\n",
    "model.fit(xTrain, yTrain, epochs = 10) # Define 10 iterations\n",
    "\n",
    "# Save the model\n",
    "model.save('digits.model')\n",
    "'''"
   ]
  },
  {
   "cell_type": "code",
   "execution_count": 5,
   "metadata": {},
   "outputs": [
    {
     "name": "stdout",
     "output_type": "stream",
     "text": [
      "313/313 [==============================] - 1s 1ms/step - loss: 0.1180 - accuracy: 0.9737\n",
      "The loss percentage (decimal) is: 0.11803443729877472\n",
      "The accuracy percentage (decimal) is: 0.9736999869346619\n"
     ]
    }
   ],
   "source": [
    "# Load previously trained model\n",
    "model = tf.keras.models.load_model('digits.model')\n",
    "\n",
    "# Evaluate the model\n",
    "loss, accuracy = model.evaluate(xTest, yTest)\n",
    "\n",
    "# Display Loss and Accuracy\n",
    "print('The loss percentage (decimal) is: ' + str(loss)) # We want a low loss\n",
    "print('The accuracy percentage (decimal) is: ' + str(accuracy)) # We want a high accuracy"
   ]
  }
 ],
 "metadata": {
  "kernelspec": {
   "display_name": "Python 3",
   "language": "python",
   "name": "python3"
  },
  "language_info": {
   "codemirror_mode": {
    "name": "ipython",
    "version": 3
   },
   "file_extension": ".py",
   "mimetype": "text/x-python",
   "name": "python",
   "nbconvert_exporter": "python",
   "pygments_lexer": "ipython3",
   "version": "3.10.0"
  }
 },
 "nbformat": 4,
 "nbformat_minor": 2
}
