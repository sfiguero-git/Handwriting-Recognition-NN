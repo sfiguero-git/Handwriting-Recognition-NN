{
 "cells": [
  {
   "cell_type": "code",
   "execution_count": 7,
   "metadata": {},
   "outputs": [
    {
     "data": {
      "text/plain": [
       "''"
      ]
     },
     "execution_count": 7,
     "metadata": {},
     "output_type": "execute_result"
    }
   ],
   "source": [
    "'''\n",
    "@author Saul Figueroa\n",
    " _   _                 _               _ _   _               _   _  _   _ \n",
    "| | | |               | |             (_) | (_)             | \\ | || \\ | |\n",
    "| |_| | __ _ _ __   __| |_      ___ __ _| |_ _ _ __   __ _  |  \\| ||  \\| |\n",
    "|  _  |/ _` | '_ \\ / _` \\ \\ /\\ / / '__| | __| | '_ \\ / _` | | . ` || . ` |\n",
    "| | | | (_| | | | | (_| |\\ V  V /| |  | | |_| | | | | (_| | | |\\  || |\\  |\n",
    "\\_| |_/\\__,_|_| |_|\\__,_| \\_/\\_/ |_|  |_|\\__|_|_| |_|\\__, | \\_| \\_/\\_| \\_/\n",
    "                                                      __/ |               \n",
    "                                                     |___/                \n",
    "\n",
    "This is an app that shows how we can use a Neural Network to classify handwritten\n",
    "digits using image recognition.\n",
    "'''\n",
    "\n",
    "# Install required libraries (run first time only)\n",
    "# %pip install numpy\n",
    "# %pip install opencv-python\n",
    "# %pip install tensorflow\n",
    "# %pip install matplotlib\n",
    ";"
   ]
  },
  {
   "cell_type": "code",
   "execution_count": 8,
   "metadata": {},
   "outputs": [],
   "source": [
    "# Preprocessing\n",
    "\n",
    "# Import required libraries\n",
    "import cv2 # Computer Vision (i.e. load images and process them)\n",
    "import matplotlib.pyplot as plt # For digit's visualization\n",
    "import tensorflow as tf # library for machine learning\n",
    "import numpy as np # Numpy arrays\n",
    "import os\n",
    "\n",
    "# Download dataset\n",
    "mnist = tf.keras.datasets.mnist\n",
    "\n",
    "# Split into training and testing data\n",
    "(xTrain, yTrain), (xTest, yTest) = mnist.load_data()\n",
    "\n",
    "# Normalize (scaling pixel values between 0-1)\n",
    "xTrain = tf.keras.utils.normalize(xTrain, axis = 1)\n",
    "xTest = tf.keras.utils.normalize(xTest, axis = 1)"
   ]
  },
  {
   "cell_type": "code",
   "execution_count": 9,
   "metadata": {},
   "outputs": [
    {
     "data": {
      "text/plain": [
       "\"\\nmodel = tf.keras.models.Sequential()\\n\\n# Add layers to model\\nmodel.add(tf.keras.layers.Flatten(input_shape = (28, 28))) # 28x28 pixels\\n\\nmodel.add(tf.keras.layers.Dense(128, activation = 'relu'))\\nmodel.add(tf.keras.layers.Dense(128, activation = 'relu'))\\n\\n# All outputs from neurons add up to 1 due to softmax\\nmodel.add(tf.keras.layers.Dense(10, activation = 'softmax'))\\n\\n# Compile model\\nmodel.compile(optimizer = 'adam', loss = 'sparse_categorical_crossentropy', metrics = ['accuracy'])\\n\""
      ]
     },
     "execution_count": 9,
     "metadata": {},
     "output_type": "execute_result"
    }
   ],
   "source": [
    "# Create model for Neural Network\n",
    "'''\n",
    "model = tf.keras.models.Sequential()\n",
    "\n",
    "# Add layers to model\n",
    "model.add(tf.keras.layers.Flatten(input_shape = (28, 28))) # 28x28 pixels\n",
    "\n",
    "model.add(tf.keras.layers.Dense(128, activation = 'relu'))\n",
    "model.add(tf.keras.layers.Dense(128, activation = 'relu'))\n",
    "\n",
    "# All outputs from neurons add up to 1 due to softmax\n",
    "model.add(tf.keras.layers.Dense(10, activation = 'softmax'))\n",
    "\n",
    "# Compile model\n",
    "model.compile(optimizer = 'adam', loss = 'sparse_categorical_crossentropy', metrics = ['accuracy'])\n",
    "'''"
   ]
  },
  {
   "cell_type": "code",
   "execution_count": 10,
   "metadata": {},
   "outputs": [
    {
     "data": {
      "text/plain": [
       "\"\\n# Train the model\\n\\nmodel.fit(xTrain, yTrain, epochs = 10) # Define 10 iterations\\n\\n# Save the model\\nmodel.save('digits.model')\\n\""
      ]
     },
     "execution_count": 10,
     "metadata": {},
     "output_type": "execute_result"
    }
   ],
   "source": [
    "'''\n",
    "# Train the model\n",
    "\n",
    "model.fit(xTrain, yTrain, epochs = 10) # Define 10 iterations\n",
    "\n",
    "# Save the model\n",
    "model.save('digits.model')\n",
    "'''"
   ]
  },
  {
   "cell_type": "code",
   "execution_count": 11,
   "metadata": {},
   "outputs": [
    {
     "name": "stdout",
     "output_type": "stream",
     "text": [
      "313/313 [==============================] - 1s 2ms/step - loss: 0.1180 - accuracy: 0.9737\n",
      "The loss percentage (decimal) is: 0.11803443729877472\n",
      "The accuracy percentage (decimal) is: 0.9736999869346619\n"
     ]
    }
   ],
   "source": [
    "# Load previously trained model\n",
    "model = tf.keras.models.load_model('digits.model')\n",
    "\n",
    "# Evaluate the model\n",
    "loss, accuracy = model.evaluate(xTest, yTest)\n",
    "\n",
    "# Display Loss and Accuracy\n",
    "print('The loss percentage (decimal) is: ' + str(loss)) # We want a low loss\n",
    "print('The accuracy percentage (decimal) is: ' + str(accuracy)) # We want a high accuracy"
   ]
  },
  {
   "cell_type": "code",
   "execution_count": 12,
   "metadata": {},
   "outputs": [
    {
     "name": "stdout",
     "output_type": "stream",
     "text": [
      "1/1 [==============================] - 0s 69ms/step\n",
      "The digit in the image has been identified as: 3\n"
     ]
    },
    {
     "data": {
      "image/png": "[encoded data removed]",
      "text/plain": [
       "<Figure size 432x288 with 1 Axes>"
      ]
     },
     "metadata": {
      "needs_background": "light"
     },
     "output_type": "display_data"
    },
    {
     "name": "stdout",
     "output_type": "stream",
     "text": [
      "1/1 [==============================] - 0s 27ms/step\n",
      "The digit in the image has been identified as: 5\n"
     ]
    },
    {
     "data": {
      "image/png": "[encoded data removed]",
      "text/plain": [
       "<Figure size 432x288 with 1 Axes>"
      ]
     },
     "metadata": {
      "needs_background": "light"
     },
     "output_type": "display_data"
    },
    {
     "name": "stdout",
     "output_type": "stream",
     "text": [
      "1/1 [==============================] - 0s 22ms/step\n",
      "The digit in the image has been identified as: 4\n"
     ]
    },
    {
     "data": {
      "image/png": "[encoded data removed]",
      "text/plain": [
       "<Figure size 432x288 with 1 Axes>"
      ]
     },
     "metadata": {
      "needs_background": "light"
     },
     "output_type": "display_data"
    },
    {
     "name": "stdout",
     "output_type": "stream",
     "text": [
      "1/1 [==============================] - 0s 19ms/step\n",
      "The digit in the image has been identified as: 8\n"
     ]
    },
    {
     "data": {
      "image/png": "[encoded data removed]",
      "text/plain": [
       "<Figure size 432x288 with 1 Axes>"
      ]
     },
     "metadata": {
      "needs_background": "light"
     },
     "output_type": "display_data"
    },
    {
     "name": "stdout",
     "output_type": "stream",
     "text": [
      "1/1 [==============================] - 0s 18ms/step\n",
      "The digit in the image has been identified as: 1\n"
     ]
    },
    {
     "data": {
      "image/png": "[encoded data removed]",
      "text/plain": [
       "<Figure size 432x288 with 1 Axes>"
      ]
     },
     "metadata": {
      "needs_background": "light"
     },
     "output_type": "display_data"
    },
    {
     "name": "stdout",
     "output_type": "stream",
     "text": [
      "1/1 [==============================] - 0s 18ms/step\n",
      "The digit in the image has been identified as: 6\n"
     ]
    },
    {
     "data": {
      "image/png": "[encoded data removed]",
      "text/plain": [
       "<Figure size 432x288 with 1 Axes>"
      ]
     },
     "metadata": {
      "needs_background": "light"
     },
     "output_type": "display_data"
    },
    {
     "name": "stdout",
     "output_type": "stream",
     "text": [
      "1/1 [==============================] - 0s 24ms/step\n",
      "The digit in the image has been identified as: 9\n"
     ]
    },
    {
     "data": {
      "image/png": "[encoded data removed]",
      "text/plain": [
       "<Figure size 432x288 with 1 Axes>"
      ]
     },
     "metadata": {
      "needs_background": "light"
     },
     "output_type": "display_data"
    },
    {
     "name": "stdout",
     "output_type": "stream",
     "text": [
      "1/1 [==============================] - 0s 21ms/step\n",
      "The digit in the image has been identified as: 2\n"
     ]
    },
    {
     "data": {
      "image/png": "[encoded data removed]",
      "text/plain": [
       "<Figure size 432x288 with 1 Axes>"
      ]
     },
     "metadata": {
      "needs_background": "light"
     },
     "output_type": "display_data"
    },
    {
     "name": "stdout",
     "output_type": "stream",
     "text": [
      "1/1 [==============================] - 0s 20ms/step\n",
      "The digit in the image has been identified as: 7\n"
     ]
    },
    {
     "data": {
      "image/png": "[encoded data removed]",
      "text/plain": [
       "<Figure size 432x288 with 1 Axes>"
      ]
     },
     "metadata": {
      "needs_background": "light"
     },
     "output_type": "display_data"
    }
   ],
   "source": [
    "# Classifying sample images\n",
    "i = 0 # Counter to iterate through images that will be classified.\n",
    "while os.path.isfile(f\"images/{i}.png\"):\n",
    "\ttry:\n",
    "\t\timage = cv2.imread(f\"images/{i}.png\")[:,:,0]\n",
    "\t\timage = np.invert(np.array([image]))\n",
    "\t\tprediction = model.predict(image)\n",
    "\t\tprint(f\"The digit in the image has been identified as: {np.argmax(prediction)}\")\n",
    "\t\t# Show original image\n",
    "\t\tplt.imshow(image[0], cmap = plt.cm.binary)\n",
    "\t\tplt.show()\n",
    "\texcept:\n",
    "\t\tprint(\"There has been an error, please try again.\")\t\n",
    "\tfinally:\n",
    "\t\ti += 1"
   ]
  }
 ],
 "metadata": {
  "kernelspec": {
   "display_name": "Python 3",
   "language": "python",
   "name": "python3"
  },
  "language_info": {
   "codemirror_mode": {
    "name": "ipython",
    "version": 3
   },
   "file_extension": ".py",
   "mimetype": "text/x-python",
   "name": "python",
   "nbconvert_exporter": "python",
   "pygments_lexer": "ipython3",
   "version": "3.10.0"
  }
 },
 "nbformat": 4,
 "nbformat_minor": 2
}
